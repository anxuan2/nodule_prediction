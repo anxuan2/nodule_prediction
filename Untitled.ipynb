{
 "cells": [
  {
   "cell_type": "code",
   "execution_count": 1,
   "id": "946c36ec",
   "metadata": {},
   "outputs": [],
   "source": [
    "def predict_nodule(tsh, scinti, adeno, eutirads, cyto, tnod, histo):\n",
    "    if tsh < 1:\n",
    "        if scinti == 'Non fait':\n",
    "            return 'Faire scintigraphie'\n",
    "        elif scinti == \"Présence d'un nodule autonome\":\n",
    "            return 'Iode radioactif ou chirurgie'\n",
    "        elif scinti == 'Pas de nodule autonome':\n",
    "            return get_second_part_of_tree(adeno, eutirads, cyto, tnod, histo)\n",
    "    else:\n",
    "        return get_second_part_of_tree(adeno, eutirads, cyto, tnod, histo)\n",
    "\n",
    "\n",
    "def get_second_part_of_tree(adeno, eutirads, cyto, tnod, histo):\n",
    "    if adeno == 'cN1':\n",
    "        return 'Thyroïdectomie totale avec curage récurentiel bilatéral'\n",
    "    else:\n",
    "        if eutirads == 2 or (eutirads == 3 and tnod <= 20) or (eutirads == 4 and tnod <= 15) or (eutirads == 5 and tnod <= 10):\n",
    "            return 'Surveillance'\n",
    "        else:\n",
    "            if cyto == 'II':\n",
    "                return 'Surveillance'\n",
    "            elif cyto =='I' or cyto == 'III':\n",
    "                return 'Contrôle de la cytoponction'\n",
    "            elif cyto == 'IV':\n",
    "                return 'Loboisthmectomie'\n",
    "            elif cyto == 'V' or cyto == 'VI':\n",
    "                if tnod <= 20:\n",
    "                    return 'Loboisthmectomie'\n",
    "                elif tnod < 40:\n",
    "                    return 'Thyroïdectomie totale'\n",
    "                else:\n",
    "                    if histo == \"En faveur d'un carcinome papillaire\":\n",
    "                        return 'Thyroïdectomie totale et Curage récurentiel homolatéral'\n",
    "                    elif histo == \"En faveur d'un nodule bénin\":\n",
    "                        return 'Thyroïdectomie totale'\n",
    "                    else:\n",
    "                        return 'Thyroïdectomie totale et Examen extemporané'\n",
    "            elif cyto == 'non fait':\n",
    "                return 'Faire cytoponction'"
   ]
  },
  {
   "cell_type": "code",
   "execution_count": 2,
   "id": "8ee8414b",
   "metadata": {},
   "outputs": [
    {
     "data": {
      "text/plain": [
       "'Surveillance'"
      ]
     },
     "execution_count": 2,
     "metadata": {},
     "output_type": "execute_result"
    }
   ],
   "source": [
    "get_second_part_of_tree('cN0', 3, 'non fait', 10, 'a')"
   ]
  },
  {
   "cell_type": "code",
   "execution_count": null,
   "id": "a66bb049",
   "metadata": {},
   "outputs": [],
   "source": []
  }
 ],
 "metadata": {
  "kernelspec": {
   "display_name": "Python 3 (ipykernel)",
   "language": "python",
   "name": "python3"
  },
  "language_info": {
   "codemirror_mode": {
    "name": "ipython",
    "version": 3
   },
   "file_extension": ".py",
   "mimetype": "text/x-python",
   "name": "python",
   "nbconvert_exporter": "python",
   "pygments_lexer": "ipython3",
   "version": "3.9.7"
  }
 },
 "nbformat": 4,
 "nbformat_minor": 5
}
